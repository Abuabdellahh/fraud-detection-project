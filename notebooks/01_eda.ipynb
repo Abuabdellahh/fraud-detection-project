{
 "cells": [
  {
   "cell_type": "markdown",
   "metadata": {},
   "source": [
    "# Fraud Detection - Exploratory Data Analysis\n",
    "This notebook contains the exploratory data analysis for the fraud detection project."
   ]
  },
  {
   "cell_type": "code",
   "execution_count": null,
   "metadata": {},
   "outputs": [],
   "source": [
    "# Import required libraries\n",
    "import pandas as pd\n",
    "import numpy as np\n",
    "import matplotlib.pyplot as plt\n",
    "import seaborn as sns\n",
    "\n",
    "# Set plot style\n",
    "sns.set_style('whitegrid')"
   ]
  },
  {
   "cell_type": "code",
   "execution_count": null,
   "metadata": {},
   "outputs": [],
   "source": [
    "# Load the data\n",
    "data_path = '../data/raw/Fraud_Data.csv'\n",
    "ip_path = '../data/raw/IpAddress_to_Country.csv'\n",
    "\n",
    "# Read the data\n",
    "fraud_data = pd.read_csv(data_path)\n",
    "ip_data = pd.read_csv(ip_path)\n",
    "\n",
    "# Display first few rows of the data\n",
    "print('Fraud Data:')\n",
    "display(fraud_data.head())\n",
    "\n",
    "print('\\nIP to Country Data:')\n",
    "display(ip_data.head())"
   ]
  },
  {
   "cell_type": "markdown",
   "metadata": {},
   "source": [
    "## Data Exploration\n",
    "\n",
    "In this section, we'll explore the data to understand its structure, check for missing values, and perform initial analysis."
   ]
  },
  {
   "cell_type": "code",
   "execution_count": null,
   "metadata": {},
   "outputs": [],
   "source": [
    "# Basic information about the datasets\n",
    "print('Fraud Data Info:')\n",
    "fraud_data.info()\n",
    "\n",
    "print('\\nIP to Country Data Info:')\n",
    "ip_data.info()"
   ]
  },
  {
   "cell_type": "code",
   "execution_count": null,
   "metadata": {},
   "outputs": [],
   "source": [
    "# Check for missing values\n",
    "print('Missing Values in Fraud Data:')\n",
    "print(fraud_data.isnull().sum())\n",
    "\n",
    "print('\\nMissing Values in IP to Country Data:')\n",
    "print(ip_data.isnull().sum())"
   ]
  },
  {
   "cell_type": "markdown",
   "metadata": {},
   "source": [
    "## Data Visualization\n",
    "\n",
    "Visualizing the data to understand distributions and relationships."
   ]
  },
  {
   "cell_type": "code",
   "execution_count": null,
   "metadata": {},
   "outputs": [],
   "source": [
    "# Plot distribution of the target variable (assuming 'class' is the target)\n",
    "if 'class' in fraud_data.columns:\n",
    "    plt.figure(figsize=(8, 5))\n",
    "    sns.countplot(x='class', data=fraud_data)\n",
    "    plt.title('Distribution of Fraudulent vs Non-Fraudulent Transactions')\n",
    "    plt.show()"
   ]
  },
  {
   "cell_type": "markdown",
   "metadata": {},
   "source": [
    "## Next Steps\n",
    "\n",
    "Based on the EDA, we can proceed with:\n",
    "1. Data preprocessing and feature engineering\n",
    "2. Building predictive models\n",
    "3. Model evaluation and optimization"
   ]
  }
 ],
 "metadata": {
  "kernelspec": {
   "display_name": "Python 3",
   "language": "python",
   "name": "python3"
  },
  "language_info": {
   "codemirror_mode": {
    "name": "ipython",
    "version": 3
   },
   "file_extension": ".py",
   "mimetype": "text/x-python",
   "name": "python",
   "nbconvert_exporter": "python",
   "pygments_lexer": "ipython3",
   "version": "3.8.0"
  }
 },
 "nbformat": 4,
 "nbformat_minor": 4
}
